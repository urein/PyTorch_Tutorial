{
 "cells": [
  {
   "cell_type": "code",
   "execution_count": 1,
   "metadata": {},
   "outputs": [],
   "source": [
    "import torch\n",
    "import numpy as np"
   ]
  },
  {
   "cell_type": "markdown",
   "metadata": {},
   "source": [
    "# 张量 Tensor"
   ]
  },
  {
   "cell_type": "markdown",
   "metadata": {},
   "source": [
    "## Tensor初始化"
   ]
  },
  {
   "cell_type": "code",
   "execution_count": 2,
   "metadata": {},
   "outputs": [
    {
     "data": {
      "text/plain": [
       "tensor([[1, 2],\n",
       "        [3, 4]])"
      ]
     },
     "execution_count": 2,
     "metadata": {},
     "output_type": "execute_result"
    }
   ],
   "source": [
    "x_data = torch.tensor([[1, 2], [3, 4]])\n",
    "x_data"
   ]
  },
  {
   "cell_type": "code",
   "execution_count": 3,
   "metadata": {},
   "outputs": [
    {
     "data": {
      "text/plain": [
       "tensor([[1, 2],\n",
       "        [3, 4]], dtype=torch.int32)"
      ]
     },
     "execution_count": 3,
     "metadata": {},
     "output_type": "execute_result"
    }
   ],
   "source": [
    "x_np = torch.tensor(np.array([[1, 2], [3, 4]]))\n",
    "x_np"
   ]
  },
  {
   "cell_type": "code",
   "execution_count": 4,
   "metadata": {},
   "outputs": [
    {
     "data": {
      "text/plain": [
       "tensor([[1, 1],\n",
       "        [1, 1]], dtype=torch.int32)"
      ]
     },
     "execution_count": 4,
     "metadata": {},
     "output_type": "execute_result"
    }
   ],
   "source": [
    "x_ones = torch.ones_like(x_np)  # 保留了x_np的各种特征\n",
    "x_ones"
   ]
  },
  {
   "cell_type": "code",
   "execution_count": 5,
   "metadata": {},
   "outputs": [
    {
     "data": {
      "text/plain": [
       "tensor([[0.1350, 0.1078],\n",
       "        [0.4673, 0.7140]])"
      ]
     },
     "execution_count": 5,
     "metadata": {},
     "output_type": "execute_result"
    }
   ],
   "source": [
    "x_rand = torch.rand_like(x_np, dtype=torch.float)  # 指定新类型\n",
    "x_rand"
   ]
  },
  {
   "cell_type": "code",
   "execution_count": 6,
   "metadata": {},
   "outputs": [
    {
     "data": {
      "text/plain": [
       "(tensor([[0.3121, 0.6120, 0.0336],\n",
       "         [0.8718, 0.3489, 0.4999]]),\n",
       " tensor([[0., 0., 0.],\n",
       "         [0., 0., 0.]]))"
      ]
     },
     "execution_count": 6,
     "metadata": {},
     "output_type": "execute_result"
    }
   ],
   "source": [
    "shape = (2, 3)\n",
    "torch.rand(shape), torch.zeros(shape)"
   ]
  },
  {
   "cell_type": "markdown",
   "metadata": {},
   "source": [
    "## Tensor的属性"
   ]
  },
  {
   "cell_type": "code",
   "execution_count": 7,
   "metadata": {},
   "outputs": [
    {
     "name": "stdout",
     "output_type": "stream",
     "text": [
      "torch.Size([3, 4])\n",
      "torch.float32\n",
      "cpu\n"
     ]
    }
   ],
   "source": [
    "tensor = torch.randn(3, 4)\n",
    "print(tensor.shape)\n",
    "print(tensor.dtype)\n",
    "print(tensor.device)"
   ]
  },
  {
   "cell_type": "markdown",
   "metadata": {},
   "source": [
    "## Tensor运算"
   ]
  },
  {
   "cell_type": "code",
   "execution_count": 8,
   "metadata": {},
   "outputs": [
    {
     "data": {
      "text/plain": [
       "device(type='cuda', index=0)"
      ]
     },
     "execution_count": 8,
     "metadata": {},
     "output_type": "execute_result"
    }
   ],
   "source": [
    "# Tensor是可以在GPU上加速的ndarray\n",
    "if torch.cuda.is_available():\n",
    "    tensor = tensor.to('cuda')\n",
    "\n",
    "tensor.device"
   ]
  },
  {
   "cell_type": "code",
   "execution_count": 9,
   "metadata": {},
   "outputs": [
    {
     "data": {
      "text/plain": [
       "tensor([[1., 0., 1., 1.],\n",
       "        [1., 0., 1., 1.],\n",
       "        [1., 0., 1., 1.],\n",
       "        [1., 0., 1., 1.]])"
      ]
     },
     "execution_count": 9,
     "metadata": {},
     "output_type": "execute_result"
    }
   ],
   "source": [
    "tensor = torch.ones(4, 4)\n",
    "tensor[:, 1] = 0\n",
    "tensor"
   ]
  },
  {
   "cell_type": "code",
   "execution_count": 10,
   "metadata": {},
   "outputs": [
    {
     "data": {
      "text/plain": [
       "tensor([[1., 0., 1., 1.],\n",
       "        [1., 0., 1., 1.],\n",
       "        [1., 0., 1., 1.],\n",
       "        [1., 0., 1., 1.],\n",
       "        [1., 0., 1., 1.],\n",
       "        [1., 0., 1., 1.],\n",
       "        [1., 0., 1., 1.],\n",
       "        [1., 0., 1., 1.]])"
      ]
     },
     "execution_count": 10,
     "metadata": {},
     "output_type": "execute_result"
    }
   ],
   "source": [
    "torch.cat([tensor, tensor], dim=0)  # 首个维度是行"
   ]
  },
  {
   "cell_type": "code",
   "execution_count": 11,
   "metadata": {},
   "outputs": [
    {
     "data": {
      "text/plain": [
       "tensor([[1., 0., 1., 1., 1., 0., 1., 1.],\n",
       "        [1., 0., 1., 1., 1., 0., 1., 1.],\n",
       "        [1., 0., 1., 1., 1., 0., 1., 1.],\n",
       "        [1., 0., 1., 1., 1., 0., 1., 1.]])"
      ]
     },
     "execution_count": 11,
     "metadata": {},
     "output_type": "execute_result"
    }
   ],
   "source": [
    "torch.cat([tensor, tensor], dim=1)"
   ]
  },
  {
   "cell_type": "code",
   "execution_count": 12,
   "metadata": {},
   "outputs": [
    {
     "name": "stdout",
     "output_type": "stream",
     "text": [
      "tensor([[ 1,  4],\n",
      "        [25, 36]])\n",
      "tensor([[ 1,  4],\n",
      "        [25, 36]])\n",
      "tensor([[ 1,  4],\n",
      "        [25, 36]])\n"
     ]
    }
   ],
   "source": [
    "tensor = torch.tensor([[1, 2], [5, 6]])  \n",
    "\n",
    "# element-wise乘法\n",
    "print(tensor * tensor)\n",
    "print(tensor.mul(tensor))\n",
    "print(torch.mul(tensor, tensor))"
   ]
  },
  {
   "cell_type": "code",
   "execution_count": 13,
   "metadata": {},
   "outputs": [
    {
     "name": "stdout",
     "output_type": "stream",
     "text": [
      "tensor([[11, 14],\n",
      "        [35, 46]])\n",
      "tensor([[11, 14],\n",
      "        [35, 46]])\n",
      "tensor([[11, 14],\n",
      "        [35, 46]])\n"
     ]
    }
   ],
   "source": [
    "# 矩阵乘法\n",
    "print(tensor @ tensor)\n",
    "print(tensor.matmul(tensor))\n",
    "print(torch.matmul(tensor, tensor))"
   ]
  },
  {
   "cell_type": "code",
   "execution_count": 14,
   "metadata": {},
   "outputs": [
    {
     "data": {
      "text/plain": [
       "tensor([[ 6,  7],\n",
       "        [10, 11]])"
      ]
     },
     "execution_count": 14,
     "metadata": {},
     "output_type": "execute_result"
    }
   ],
   "source": [
    "# in-place操作，操作后面加上\"_\"\n",
    "tensor.add_(5)\n",
    "tensor"
   ]
  },
  {
   "cell_type": "markdown",
   "metadata": {},
   "source": [
    "## Tensor和Numpy的数组共享内存"
   ]
  },
  {
   "cell_type": "code",
   "execution_count": 15,
   "metadata": {},
   "outputs": [
    {
     "name": "stdout",
     "output_type": "stream",
     "text": [
      "tensor([1., 1., 1., 1., 1.])\n",
      "[1. 1. 1. 1. 1.]\n"
     ]
    }
   ],
   "source": [
    "# Tensor -> ndarray\n",
    "t = torch.ones(5)\n",
    "print(t)\n",
    "n = t.numpy()\n",
    "print(n)"
   ]
  },
  {
   "cell_type": "code",
   "execution_count": 16,
   "metadata": {},
   "outputs": [
    {
     "name": "stdout",
     "output_type": "stream",
     "text": [
      "[2. 2. 2. 2. 2.]\n"
     ]
    }
   ],
   "source": [
    "# 改变t会改变n\n",
    "t.add_(1)\n",
    "print(n)"
   ]
  },
  {
   "cell_type": "code",
   "execution_count": 17,
   "metadata": {},
   "outputs": [
    {
     "name": "stdout",
     "output_type": "stream",
     "text": [
      "[1. 1. 1. 1. 1.]\n",
      "tensor([1., 1., 1., 1., 1.], dtype=torch.float64)\n"
     ]
    }
   ],
   "source": [
    "# ndarray -> Tensor\n",
    "n = np.ones(5)\n",
    "print(n)\n",
    "t = torch.from_numpy(n)\n",
    "print(t)"
   ]
  },
  {
   "cell_type": "markdown",
   "metadata": {},
   "source": [
    "# Autograd"
   ]
  },
  {
   "cell_type": "markdown",
   "metadata": {},
   "source": [
    "## 背景\n",
    "\n",
    "NN就是一系列相互关联的函数，该函数由众多参数定义。这些参数在PyTorch中以Tensor的形式存储。\n",
    "训练NN包含两个过程：\n",
    "1. 正向传递：输入数据，经过NN得到输出的预测值\n",
    "2. 反向传递：通过BP计算loss函数对各个参数的导数，更新参数。"
   ]
  },
  {
   "cell_type": "markdown",
   "metadata": {},
   "source": [
    "## 在PyTorch中的用法\n",
    "\n",
    "从torchvision中加载一个预训练好的resnet18。随机生成一个Tensor表示一张三通道，大小为64x64的图像，并随机生成一个1000维的label，比如表示分类数。"
   ]
  },
  {
   "cell_type": "code",
   "execution_count": 18,
   "metadata": {},
   "outputs": [],
   "source": [
    "import torchvision\n",
    "\n",
    "model = torchvision.models.resnet18(pretrained=True)\n",
    "data = torch.rand(1, 3, 64, 64)  # 1张图像，3个通道，64x64大小\n",
    "labels = torch.rand(1, 1000)"
   ]
  },
  {
   "cell_type": "code",
   "execution_count": 19,
   "metadata": {},
   "outputs": [
    {
     "name": "stdout",
     "output_type": "stream",
     "text": [
      "torch.Size([1, 1000])\n"
     ]
    }
   ],
   "source": [
    "# 前向传递\n",
    "\n",
    "prediction = model(data)  # torch.Tensor\n",
    "print(prediction.shape)"
   ]
  },
  {
   "cell_type": "code",
   "execution_count": 20,
   "metadata": {},
   "outputs": [],
   "source": [
    "# 反向传播\n",
    "\n",
    "# 计算loss\n",
    "loss = (prediction - labels).sum()\n",
    "# 对loss的结果调用backward()，Autograd就会计算并保存所有参数的梯度，从.grad属性中查看\n",
    "loss.backward()\n",
    "# 加载一个SGD optimizer\n",
    "optim = torch.optim.SGD(model.parameters(), lr=1e-2, momentum=0.9)\n",
    "# 通过.step()来执行梯度下降，optimizer会根据优化器算法以及保存在.grad中的梯度更新参数\n",
    "optim.step()"
   ]
  },
  {
   "cell_type": "markdown",
   "metadata": {},
   "source": [
    "## Autograd中的微分"
   ]
  },
  {
   "cell_type": "code",
   "execution_count": 21,
   "metadata": {},
   "outputs": [],
   "source": [
    "# 指定Tensor的requires_grad=True表示让autograd去追踪发生在该Tensor上的所有操作\n",
    "a = torch.tensor([2., 3.], requires_grad=True)\n",
    "b = torch.tensor([6., 4.], requires_grad=True)"
   ]
  },
  {
   "cell_type": "markdown",
   "metadata": {},
   "source": [
    "假设Q=3a^3-b^2，a和b是参数，Q是error，我们需要计算Q对a的偏导数9a^2和对b的偏导数-2b"
   ]
  },
  {
   "cell_type": "code",
   "execution_count": 22,
   "metadata": {},
   "outputs": [
    {
     "name": "stdout",
     "output_type": "stream",
     "text": [
      "tensor([True, True])\n",
      "tensor([True, True])\n"
     ]
    }
   ],
   "source": [
    "Q = 3 * a ** 3 - b ** 2\n",
    "# 如果loss是一个scalar，会默认在backward()中传入torch.tensor(1.0)\n",
    "# 但这里因为Q是二维的，因此需要显式传入一个2维的元素均为1的Tensor，表示dQ/dQ=1\n",
    "Q.backward(gradient=torch.tensor([1., 1.]))\n",
    "print(a.grad==9*a**2)\n",
    "print(b.grad==-2*b)"
   ]
  },
  {
   "cell_type": "markdown",
   "metadata": {},
   "source": [
    "## 选读：使用Autograd计算向量积分"
   ]
  },
  {
   "cell_type": "code",
   "execution_count": null,
   "metadata": {},
   "outputs": [],
   "source": []
  },
  {
   "cell_type": "markdown",
   "metadata": {},
   "source": [
    "## 计算图\n",
    "\n",
    "autograd保存了Tensor的数据以及所有与它相关的操作，将过程保存在一个有向图(DAG)中，DAG由函数对象构成。leaves是输入张量，roots是输出张量。通过由roots到leaves追踪这个图，可以自动地通过链式法则计算梯度。\n",
    "\n",
    "前向传播中，autograd同时做了以下两件事：\n",
    "1. 根据相应的各个operations计算结果张量\n",
    "2. 记录各个operations的梯度函数\n",
    "\n",
    "调用backward()后，反向传播从DAG的根部开始，autograd做的事包括：\n",
    "1. 根据梯度函数(.grad_fn)计算梯度\n",
    "2. 从后向前经过所有的operation并根据1计算出通过各处的梯度值，来到对应的Tensor处将累计得到梯度保存在它的.grad属性中\n",
    "3. 使用链式法则，对所有从root到leaf的路径进行传播\n",
    "\n",
    "上面Q=3a^3-b^2的计算图见https://pytorch.org/tutorials/beginner/blitz/autograd_tutorial.html#sphx-glr-beginner-blitz-autograd-tutorial-py\n",
    "\n",
    "注意：在Pytorch中DAG是动态的，它是从0开始创建的，直到调用backward()时autograd才开始形成新的计算图。这也是为什么我们可以干预模型，根据需要在每一个迭代中改变形状、大小、操作。"
   ]
  },
  {
   "cell_type": "markdown",
   "metadata": {},
   "source": [
    "## 从DAG中排除Tensor\n",
    "\n",
    "只有将某个Tensor的requires_grad指定为True，autograd就会追踪图中所有与该张量相关的操作。对于那些不需要梯度的Tensor，可以将他们的requires_grad指定为False，进而把它们从计算图中去除。"
   ]
  },
  {
   "cell_type": "code",
   "execution_count": 23,
   "metadata": {},
   "outputs": [
    {
     "name": "stdout",
     "output_type": "stream",
     "text": [
      "False\n",
      "True\n"
     ]
    }
   ],
   "source": [
    "x = torch.rand(5, 5)\n",
    "y = torch.rand(5, 5)\n",
    "z = torch.rand(5, 5, requires_grad=True)\n",
    "\n",
    "a = x + y\n",
    "print(a.requires_grad)\n",
    "b = x + z\n",
    "print(b.requires_grad)"
   ]
  },
  {
   "cell_type": "markdown",
   "metadata": {},
   "source": [
    "那些不需要计算梯度的参数被称为frozen parameters。如果事先直到某些参数并不需要计算梯度，将他们freeze会提升代码的性能。另外在finetuning网络时也需要freeze部分模型，在训练的过程中不去变动它们的参数。见下面实例。"
   ]
  },
  {
   "cell_type": "code",
   "execution_count": 24,
   "metadata": {},
   "outputs": [],
   "source": [
    "model = torchvision.models.resnet18(pretrained=True)\n",
    "for param in model.parameters():\n",
    "    param.requires_grad = False"
   ]
  },
  {
   "cell_type": "code",
   "execution_count": 25,
   "metadata": {},
   "outputs": [],
   "source": [
    "# 在一个新的只包含10个label的数据集上finetune模型。resnet的classifier是最后一个fc层model.fc，直接把它替换成一个新的分类器即可\n",
    "model.fc = torch.nn.Linear(512, 10)\n",
    "\n",
    "# 目前只有最后一层的参数可以被训练，反向传播传到最后一层就不会再向前传了\n",
    "# optimizer中传入的参数也只能包含最后一层分类器中的参数\n",
    "optimizer = torch.optim.SGD(model.fc.parameters(), lr=1e-2, momentum=0.9)\n"
   ]
  },
  {
   "cell_type": "markdown",
   "metadata": {},
   "source": [
    "# 神经网络\n",
    "\n",
    "构建的NN模块都包含在torch.nn中，nn基于autograd来定义模型并计算相关参数的微分。需要注意的一点是，torch.nn只接受mini-batch的输入，而非单一的sample，即必须包含四个维度：nSamples x nChannels x Height x Width。可以通过input.unsqueeze(0)添加一个虚拟的batch维度。"
   ]
  },
  {
   "cell_type": "code",
   "execution_count": 26,
   "metadata": {},
   "outputs": [],
   "source": [
    "import torch.nn as nn\n",
    "import torch.nn.functional as F"
   ]
  },
  {
   "cell_type": "code",
   "execution_count": 27,
   "metadata": {},
   "outputs": [],
   "source": [
    "class Net(nn.Module):  # 定义的网络继承自nn.Module\n",
    "    def __init__(self):\n",
    "        #super(Net, self).__init__()  # 调用父类的初始化方法，Python3中可以简写如下\n",
    "        super().__init__()\n",
    "        self.conv1 = nn.Conv2d(1, 6, 3)  # input n_channel is 1, output n_channel is 6, 3x3 kernel\n",
    "        self.conv2 = nn.Conv2d(6, 16, 3)\n",
    "        self.fc1 = nn.Linear(16 * 6 * 6, 120)  # 6x6是image的大小\n",
    "        self.fc2 = nn.Linear(120, 84)\n",
    "        self.fc3 = nn.Linear(84, 10)\n",
    "    \n",
    "    # 自己需要定义一个名为forward的函数，而backward则是自动定义的\n",
    "    def forward(self, x):\n",
    "        x = F.max_pool2d(F.relu(self.conv1(x)), (2, 2))  # 2x2的pooling\n",
    "        x = F.max_pool2d(F.relu(self.conv2(x)), 2)  # 可以只输入1个2\n",
    "        x = x.view(-1, self.num_flat_features(x))  # view相当于reshape\n",
    "        x = F.relu(self.fc1(x))\n",
    "        x = F.relu(self.fc2(x))\n",
    "        x = self.fc3(x)\n",
    "        return x\n",
    "    \n",
    "    def num_flat_features(self, x):\n",
    "        size = x.size()[1:]  # 第一个维度是batch\n",
    "        n_features = 1\n",
    "        for s in size:\n",
    "            n_features *= s\n",
    "        return n_features    "
   ]
  },
  {
   "cell_type": "code",
   "execution_count": 28,
   "metadata": {},
   "outputs": [
    {
     "name": "stdout",
     "output_type": "stream",
     "text": [
      "Net(\n",
      "  (conv1): Conv2d(1, 6, kernel_size=(3, 3), stride=(1, 1))\n",
      "  (conv2): Conv2d(6, 16, kernel_size=(3, 3), stride=(1, 1))\n",
      "  (fc1): Linear(in_features=576, out_features=120, bias=True)\n",
      "  (fc2): Linear(in_features=120, out_features=84, bias=True)\n",
      "  (fc3): Linear(in_features=84, out_features=10, bias=True)\n",
      ")\n"
     ]
    }
   ],
   "source": [
    "net = Net()\n",
    "print(net)"
   ]
  },
  {
   "cell_type": "code",
   "execution_count": 29,
   "metadata": {},
   "outputs": [
    {
     "name": "stdout",
     "output_type": "stream",
     "text": [
      "10\n",
      "torch.Size([6, 1, 3, 3])\n"
     ]
    }
   ],
   "source": [
    "params = list(net.parameters())  # 网络中所有可以被训练的参数\n",
    "print(len(params))\n",
    "print(params[0].size())"
   ]
  },
  {
   "cell_type": "code",
   "execution_count": 30,
   "metadata": {},
   "outputs": [
    {
     "name": "stdout",
     "output_type": "stream",
     "text": [
      "tensor([[ 0.1384, -0.0118, -0.0448,  0.0374,  0.0250,  0.0353,  0.0275,  0.0715,\n",
      "          0.0199, -0.1288]], grad_fn=<AddmmBackward>)\n"
     ]
    }
   ],
   "source": [
    "input = torch.randn(1, 1, 32, 32)  # 随便生成一个输入，一张单通道的图像\n",
    "out = net(input)\n",
    "print(out)"
   ]
  },
  {
   "cell_type": "markdown",
   "metadata": {},
   "source": [
    "## Loss Function"
   ]
  },
  {
   "cell_type": "code",
   "execution_count": 31,
   "metadata": {},
   "outputs": [
    {
     "name": "stdout",
     "output_type": "stream",
     "text": [
      "tensor(0.4849, grad_fn=<MseLossBackward>)\n"
     ]
    }
   ],
   "source": [
    "output = net(input)\n",
    "target = torch.randn(10)\n",
    "target = target.view(1, -1)  # 这里必须增加这个维度\n",
    "criterion = nn.MSELoss()\n",
    "loss = criterion(output, target)\n",
    "print(loss)"
   ]
  },
  {
   "cell_type": "markdown",
   "metadata": {},
   "source": [
    "从input到最终loss的过程为：input -> conv2d -> relu -> maxpool2d -> conv2d -> relu -> maxpool2d -> view -> linear -> relu -> linear -> relu -> linear -> MSELoss -> loss。此时调用loss.backward()会计算loss对整个计算图中各个参数的导数。所有参数的requires_grad都是True，因此可以通过.grad查看导数值。\n"
   ]
  },
  {
   "cell_type": "code",
   "execution_count": 32,
   "metadata": {},
   "outputs": [
    {
     "name": "stdout",
     "output_type": "stream",
     "text": [
      "<MseLossBackward object at 0x000002CCDA931C10>\n",
      "<AddmmBackward object at 0x000002CCDA931700>\n",
      "<AccumulateGrad object at 0x000002CCDA931C10>\n"
     ]
    }
   ],
   "source": [
    "print(loss.grad_fn)  # MSELoss\n",
    "print(loss.grad_fn.next_functions[0][0])  # Linear\n",
    "print(loss.grad_fn.next_functions[0][0].next_functions[0][0])  # ReLU"
   ]
  },
  {
   "cell_type": "markdown",
   "metadata": {},
   "source": [
    "## Backprop\n",
    "\n",
    "执行反向传播就是通过调用backward()实现的。但是在调用backward()之前不要忘记通过net.zero_grad清空已有的梯度，否则梯度会被累加进来。"
   ]
  },
  {
   "cell_type": "code",
   "execution_count": 33,
   "metadata": {},
   "outputs": [
    {
     "name": "stdout",
     "output_type": "stream",
     "text": [
      "gradient before backward()\n",
      "None\n",
      "gradient after backward()\n",
      "tensor([ 0.0065, -0.0084, -0.0032, -0.0056,  0.0027,  0.0072])\n"
     ]
    }
   ],
   "source": [
    "net.zero_grad()  # 清空所有参数的梯度缓存\n",
    "print(\"gradient before backward()\")\n",
    "print(net.conv1.bias.grad)\n",
    "\n",
    "loss.backward()\n",
    "\n",
    "print(\"gradient after backward()\")\n",
    "print(net.conv1.bias.grad)"
   ]
  },
  {
   "cell_type": "markdown",
   "metadata": {},
   "source": [
    "## 更新参数\n",
    "\n",
    "weight = weight - learning_rate * gradient。最简单的方式就是使用SGD，并自己手动通过Python代码来更新参数。"
   ]
  },
  {
   "cell_type": "code",
   "execution_count": 34,
   "metadata": {},
   "outputs": [],
   "source": [
    "learning_rate = 0.01\n",
    "for f in net.parameters():\n",
    "    f.data.sub_(f.grad.data * learning_rate)"
   ]
  },
  {
   "cell_type": "markdown",
   "metadata": {},
   "source": [
    "对于更复杂的优化算法，比如RMSProp，Adam等等手动更新显然巨麻烦。于是我们可以使用torch.optim中定义的优化器。然后通过调用optimizer.step()来更新参数。"
   ]
  },
  {
   "cell_type": "code",
   "execution_count": 35,
   "metadata": {},
   "outputs": [],
   "source": [
    "import torch.optim as optim\n",
    "\n",
    "# 创建优化器\n",
    "optimizer = optim.SGD(net.parameters(), lr=0.01)\n",
    "\n",
    "# 训练循环\n",
    "optimizer.zero_grad()  # 清空梯度缓存，和model.zero_grad()功能一样\n",
    "output = net(input)\n",
    "loss = criterion(output, target)\n",
    "loss.backward()\n",
    "optimizer.step()  # 更新参数"
   ]
  },
  {
   "cell_type": "markdown",
   "metadata": {},
   "source": [
    "# 训练一个分类器\n"
   ]
  },
  {
   "cell_type": "markdown",
   "metadata": {},
   "source": [
    "## 关于数据\n",
    "\n",
    "比如图像数据，可以用Pillow，OpenCV等Python包将数据读入ndarray，然后转换到torch.Tensor。Pytorch中有一个torchvision包，里面包含了一些常用的经典数据集的loader，比如Imagenet，CIFAR10，MNIST等等，以及图像数据的转换器。下面举一个CIFAR10的例子，该数据集包含了10种物体(classes)，分别是 “飞机”、“汽车”、“小鸟”、“猫”、“狗”、“鹿”、“青蛙”、“马”、“船”、“卡车”。图像尺寸为3x32x32。"
   ]
  },
  {
   "cell_type": "markdown",
   "metadata": {},
   "source": [
    "## 1. 通过torchvision加载并初始化CIFAR10的训练和测试数据\n",
    "\n",
    "torchvision加载得到的图像是[0, 1]范围的PILImage，需要将其转换成Tensor并标准化到区间[-1, 1]"
   ]
  },
  {
   "cell_type": "code",
   "execution_count": 36,
   "metadata": {},
   "outputs": [],
   "source": [
    "import torchvision\n",
    "import torchvision.transforms as transforms"
   ]
  },
  {
   "cell_type": "markdown",
   "metadata": {},
   "source": [
    "通过transforms.Compose将多个变换组合在一起，用list保存。\n",
    "\n",
    "有以下常用的变换：\n",
    "1. transforms.ToTensor()将数据转换为Torch.Tensor且归一化到 [0, 1]\n",
    "2. transforms.Normalize()将数据归一化，公式为 channel=（channel-mean）/std"
   ]
  },
  {
   "cell_type": "code",
   "execution_count": 37,
   "metadata": {},
   "outputs": [],
   "source": [
    "transform = transforms.Compose([transforms.ToTensor(),\n",
    "                                transforms.Normalize(mean=(0.5, 0.5, 0.5), std=(0.5, 0.5, 0.5))])  # 显然归一化后的范围为[-1, 1]"
   ]
  },
  {
   "cell_type": "markdown",
   "metadata": {},
   "source": [
    "1. 使用OpenCV"
   ]
  },
  {
   "cell_type": "code",
   "execution_count": 38,
   "metadata": {},
   "outputs": [
    {
     "name": "stdout",
     "output_type": "stream",
     "text": [
      "<class 'numpy.ndarray'> 3 255\n",
      "<class 'torch.Tensor'> tensor(-0.9765) tensor(1.)\n"
     ]
    }
   ],
   "source": [
    "import cv2\n",
    "test_img = cv2.imread(\"./images/Lenna.png\")\n",
    "\n",
    "# 训练时需要将数据转化为Tensor\n",
    "# before transformation\n",
    "print(type(test_img), test_img.min(), test_img.max())\n",
    "\n",
    "trans_img = transform(test_img)\n",
    "\n",
    "# after transformation\n",
    "print(type(trans_img), trans_img.min(), trans_img.max())\n",
    "\n",
    "\n",
    "# 测试时可能会需要将Tensor恢复回ndarray\n",
    "np_img = (trans_img.numpy() + 1) * 255 / 2.  # [-1, 1] -> [0, 255]\n",
    "np_img = np_img.astype(\"uint8\")  # shape: (3, 512, 512)\n",
    "np_img = np.transpose(np_img, (1, 2, 0))  # 把通道数换到最后一个维度上，shape: (512, 512, 3)\n",
    "np_img.shape\n",
    "cv2.imshow(\"Lenna\", np_img)\n",
    "cv2.waitKey(3000)\n",
    "cv2.destroyAllWindows()"
   ]
  },
  {
   "cell_type": "code",
   "execution_count": 39,
   "metadata": {},
   "outputs": [],
   "source": [
    "# from PIL import Image\n",
    "# test_img = Image.open(\"./images/Lenna.png\").convert('RGB') # 读取图像\n",
    "# print(max(test_img))\n",
    "# test_img = transform(test_img)\n",
    "\n",
    "\n",
    "# #转化为PILImage并显示\n",
    "# trans_img = transforms.ToPILImage()(test_img).convert('RGB')\n",
    "# trans_img.show() "
   ]
  },
  {
   "cell_type": "code",
   "execution_count": 40,
   "metadata": {},
   "outputs": [
    {
     "name": "stdout",
     "output_type": "stream",
     "text": [
      "Files already downloaded and verified\n",
      "Files already downloaded and verified\n"
     ]
    }
   ],
   "source": [
    "trainset = torchvision.datasets.CIFAR10(root=\"./data/CIFAR10\", train=True, download=True, transform=transform)\n",
    "trainloader = torch.utils.data.DataLoader(trainset, batch_size=4, shuffle=True, num_workers=2)\n",
    "\n",
    "testset = torchvision.datasets.CIFAR10(root=\"./data/CIFAR10\", train=False, download=True, transform=transform)\n",
    "testloader = torch.utils.data.DataLoader(testset, batch_size=4, shuffle=False, num_workers=2)"
   ]
  },
  {
   "cell_type": "code",
   "execution_count": 41,
   "metadata": {},
   "outputs": [],
   "source": [
    "classes = ('plane', 'car', 'bird', 'cat', 'deer', 'dog', 'frog', 'horse', 'ship', 'truck')"
   ]
  },
  {
   "cell_type": "markdown",
   "metadata": {},
   "source": [
    "show一些图片"
   ]
  },
  {
   "cell_type": "code",
   "execution_count": 42,
   "metadata": {},
   "outputs": [],
   "source": [
    "import matplotlib.pyplot as plt\n",
    "import numpy as np"
   ]
  },
  {
   "cell_type": "code",
   "execution_count": 43,
   "metadata": {},
   "outputs": [
    {
     "name": "stdout",
     "output_type": "stream",
     "text": [
      "bird horse horse dog\n"
     ]
    },
    {
     "data": {
      "image/png": "[encoded data removed]",
      "text/plain": [
       "<Figure size 432x288 with 1 Axes>"
      ]
     },
     "metadata": {
      "needs_background": "light"
     },
     "output_type": "display_data"
    }
   ],
   "source": [
    "def imshow(img):\n",
    "    img = img * 0.5 + 0.5  # 去标准化\n",
    "    npimg = img.numpy()\n",
    "    plt.imshow(np.transpose(npimg, (1, 2, 0)))\n",
    "\n",
    "    \n",
    "# 随机获取一些训练图像\n",
    "dataiter = iter(trainloader)\n",
    "\n",
    "# images: torch.Size([4, 3, 32, 32])\n",
    "# labels: tensor([2, 4, 1, 0])\n",
    "images, labels = dataiter.next()  \n",
    "\n",
    "# 显示一些图像\n",
    "imshow(torchvision.utils.make_grid(images))  # make_grid将若干副图拼成一幅图\n",
    "# 打印标签\n",
    "print(' '.join(classes[labels[j]] for j in range(4)))"
   ]
  },
  {
   "cell_type": "markdown",
   "metadata": {},
   "source": [
    "## 定义一个CNN"
   ]
  },
  {
   "cell_type": "code",
   "execution_count": 44,
   "metadata": {},
   "outputs": [],
   "source": [
    "import torch.nn as nn\n",
    "import torch.nn.functional as F\n",
    "\n",
    "class Net(nn.Module):\n",
    "    def __init__(self):\n",
    "        super().__init__()\n",
    "        self.conv1 = nn.Conv2d(3, 6, 5)  # 这里把输出通道数6变大（比如500）就可以看到后面使用GPU的飞速提升\n",
    "        self.pool = nn.MaxPool2d(2)\n",
    "        self.conv2 = nn.Conv2d(6, 16, 5)\n",
    "        # sz after conv1 and pool1: (32 - 5 + 1) / 2 = 14\n",
    "        # sz after conv2 and pool2: (14 - 5 + 1) / 2 = 5\n",
    "        self.fc1 = nn.Linear(16 * 5 * 5, 120)  \n",
    "        self.fc2 = nn.Linear(120, 84)\n",
    "        self.fc3 = nn.Linear(84, 10)\n",
    "    \n",
    "    def forward(self, x):\n",
    "        x = self.pool(F.relu(self.conv1(x)))\n",
    "        x = self.pool(F.relu(self.conv2(x)))\n",
    "        x = x.view(-1, 16 * 5 * 5)\n",
    "        x = F.relu(self.fc1(x))\n",
    "        x = F.relu(self.fc2(x))\n",
    "        x = self.fc3(x)\n",
    "        return x"
   ]
  },
  {
   "cell_type": "code",
   "execution_count": 45,
   "metadata": {},
   "outputs": [
    {
     "data": {
      "text/plain": [
       "Net(\n",
       "  (conv1): Conv2d(3, 6, kernel_size=(5, 5), stride=(1, 1))\n",
       "  (pool): MaxPool2d(kernel_size=2, stride=2, padding=0, dilation=1, ceil_mode=False)\n",
       "  (conv2): Conv2d(6, 16, kernel_size=(5, 5), stride=(1, 1))\n",
       "  (fc1): Linear(in_features=400, out_features=120, bias=True)\n",
       "  (fc2): Linear(in_features=120, out_features=84, bias=True)\n",
       "  (fc3): Linear(in_features=84, out_features=10, bias=True)\n",
       ")"
      ]
     },
     "execution_count": 45,
     "metadata": {},
     "output_type": "execute_result"
    }
   ],
   "source": [
    "net = Net()\n",
    "net"
   ]
  },
  {
   "cell_type": "markdown",
   "metadata": {},
   "source": [
    "## 3. 定义损失函数和优化器\n",
    "\n",
    "使用交叉熵+惯性SGD"
   ]
  },
  {
   "cell_type": "code",
   "execution_count": 46,
   "metadata": {},
   "outputs": [],
   "source": [
    "import torch.optim as optim\n",
    "\n",
    "criterion = nn.CrossEntropyLoss()\n",
    "optimizer = optim.SGD(net.parameters(), lr=0.001, momentum=0.9)"
   ]
  },
  {
   "cell_type": "markdown",
   "metadata": {},
   "source": [
    "## 4. 训练神经网络\n",
    "\n",
    "只需要简单地循环data iterator，将数据不断喂给网络并进行优化"
   ]
  },
  {
   "cell_type": "code",
   "execution_count": 47,
   "metadata": {},
   "outputs": [
    {
     "name": "stdout",
     "output_type": "stream",
     "text": [
      "[1, 2000] loss: 2.207\n",
      "[1, 4000] loss: 1.865\n",
      "[1, 6000] loss: 1.688\n",
      "[1, 8000] loss: 1.560\n",
      "[1, 10000] loss: 1.538\n",
      "[1, 12000] loss: 1.490\n",
      "[2, 2000] loss: 1.427\n",
      "[2, 4000] loss: 1.382\n",
      "[2, 6000] loss: 1.360\n",
      "[2, 8000] loss: 1.319\n",
      "[2, 10000] loss: 1.300\n",
      "[2, 12000] loss: 1.285\n",
      "Finished Training\n"
     ]
    }
   ],
   "source": [
    "for epoch in range(2):\n",
    "    \n",
    "    running_loss = 0.0\n",
    "    for i, data in enumerate(trainloader):\n",
    "        inputs, labels = data  # inputs: [4, 3, 32, 32]\n",
    "        \n",
    "        # 清空梯度缓存\n",
    "        optimizer.zero_grad()\n",
    "        \n",
    "        # forward + backward + optimize\n",
    "        outputs = net(inputs)\n",
    "        loss = criterion(outputs, labels)\n",
    "        loss.backward()\n",
    "        optimizer.step()\n",
    "        \n",
    "        # 打印统计\n",
    "        running_loss += loss.item()\n",
    "        if i % 2000 == 1999:\n",
    "            print('[{}, {}] loss: {:.3f}'.format(epoch + 1, i + 1, running_loss / 2000))\n",
    "            running_loss = 0.0\n",
    "\n",
    "print(\"Finished Training\")"
   ]
  },
  {
   "cell_type": "markdown",
   "metadata": {},
   "source": [
    "保存训练模型"
   ]
  },
  {
   "cell_type": "code",
   "execution_count": 48,
   "metadata": {},
   "outputs": [],
   "source": [
    "import os\n",
    "\n",
    "PATH = \"trained_models/cifar_net.pth\"\n",
    "if not os.path.exists(PATH):\n",
    "    os.mkdir(\"trained_models\")\n",
    "torch.save(net.state_dict(), PATH)"
   ]
  },
  {
   "cell_type": "markdown",
   "metadata": {},
   "source": [
    "## 测试网络"
   ]
  },
  {
   "cell_type": "code",
   "execution_count": 49,
   "metadata": {},
   "outputs": [
    {
     "name": "stdout",
     "output_type": "stream",
     "text": [
      "cat, ship, ship, plane\n"
     ]
    },
    {
     "data": {
      "image/png": "[encoded data removed]",
      "text/plain": [
       "<Figure size 432x288 with 1 Axes>"
      ]
     },
     "metadata": {
      "needs_background": "light"
     },
     "output_type": "display_data"
    }
   ],
   "source": [
    "dataiter = iter(testloader)\n",
    "images, labels = dataiter.next()\n",
    "\n",
    "imshow(torchvision.utils.make_grid(images))\n",
    "print(', '.join(classes[labels[i]] for i in range(4)))"
   ]
  },
  {
   "cell_type": "markdown",
   "metadata": {},
   "source": [
    "将训练好的模型加载进来。这里其实无需将训练好的模型加载，只是为了演示。"
   ]
  },
  {
   "cell_type": "code",
   "execution_count": 50,
   "metadata": {},
   "outputs": [
    {
     "name": "stdout",
     "output_type": "stream",
     "text": [
      "Predicted:  cat ship ship ship\n"
     ]
    }
   ],
   "source": [
    "net = Net()\n",
    "net.load_state_dict(torch.load(PATH))\n",
    "\n",
    "outputs = net(images)\n",
    "values, predicted = torch.max(outputs, 1)\n",
    "print(\"Predicted: \", ' '.join(classes[predicted[i]] for i in range(4)))"
   ]
  },
  {
   "cell_type": "markdown",
   "metadata": {},
   "source": [
    "在整个testset上进行测试"
   ]
  },
  {
   "cell_type": "code",
   "execution_count": 51,
   "metadata": {},
   "outputs": [
    {
     "name": "stdout",
     "output_type": "stream",
     "text": [
      "Accuracy of the network on the 10000 test images: 54%\n"
     ]
    }
   ],
   "source": [
    "correct = 0\n",
    "total = 0\n",
    "\n",
    "with torch.no_grad():  # 测试的时候不能更新参数\n",
    "    for data in testloader:\n",
    "        images, labels = data\n",
    "        outputs = net(images)\n",
    "        values, predicted = torch.max(outputs.data, 1)\n",
    "        total += labels.size(0)\n",
    "        correct += (predicted == labels).sum()\n",
    "\n",
    "print(\"Accuracy of the network on the 10000 test images: {:.0%}\".format(correct / total))"
   ]
  },
  {
   "cell_type": "markdown",
   "metadata": {},
   "source": [
    "网络似乎学到了一些东西，否则正确率大概是10%。下面我们检查以下那些类别学习得不是很好。"
   ]
  },
  {
   "cell_type": "code",
   "execution_count": 52,
   "metadata": {},
   "outputs": [
    {
     "name": "stdout",
     "output_type": "stream",
     "text": [
      "Accuracy of plane: 60.7%\n",
      "Accuracy of car: 57.4%\n",
      "Accuracy of bird: 32.7%\n",
      "Accuracy of cat: 43.8%\n",
      "Accuracy of deer: 54.6%\n",
      "Accuracy of dog: 35.4%\n",
      "Accuracy of frog: 56.3%\n",
      "Accuracy of horse: 63.3%\n",
      "Accuracy of ship: 85.3%\n",
      "Accuracy of truck: 48.7%\n"
     ]
    }
   ],
   "source": [
    "class_correct = [0 for _ in range(10)]\n",
    "class_total = [0 for _ in range(10)]\n",
    "\n",
    "with torch.no_grad():\n",
    "    for data in testloader:\n",
    "        images, labels = data\n",
    "        outputs = net(images)\n",
    "        _, preds = torch.max(outputs, 1)\n",
    "        c = (preds == labels)\n",
    "        for i in range(4):\n",
    "            label = labels[i]\n",
    "            class_total[label] += 1\n",
    "            class_correct[label] += c[i].item()  # 对应的label如果是True就加1，如果是false就加0\n",
    "\n",
    "for i in range(10):\n",
    "    print(\"Accuracy of {}: {:.1%}\".format(classes[i], class_correct[i] / class_total[i]))"
   ]
  },
  {
   "cell_type": "markdown",
   "metadata": {},
   "source": [
    "## 在GPU上训练\n",
    "如果有cuda的话，首先将我们的设备定义成第一个可见的cuda设备。"
   ]
  },
  {
   "cell_type": "code",
   "execution_count": 53,
   "metadata": {},
   "outputs": [
    {
     "name": "stdout",
     "output_type": "stream",
     "text": [
      "cuda:0\n"
     ]
    }
   ],
   "source": [
    "device = torch.device(\"cuda:0\" if torch.cuda.is_available() else \"cpu\")\n",
    "print(device)"
   ]
  },
  {
   "cell_type": "markdown",
   "metadata": {},
   "source": [
    "接下来张量被转换成cuda张量进行加速"
   ]
  },
  {
   "cell_type": "code",
   "execution_count": 54,
   "metadata": {},
   "outputs": [
    {
     "data": {
      "text/plain": [
       "Net(\n",
       "  (conv1): Conv2d(3, 6, kernel_size=(5, 5), stride=(1, 1))\n",
       "  (pool): MaxPool2d(kernel_size=2, stride=2, padding=0, dilation=1, ceil_mode=False)\n",
       "  (conv2): Conv2d(6, 16, kernel_size=(5, 5), stride=(1, 1))\n",
       "  (fc1): Linear(in_features=400, out_features=120, bias=True)\n",
       "  (fc2): Linear(in_features=120, out_features=84, bias=True)\n",
       "  (fc3): Linear(in_features=84, out_features=10, bias=True)\n",
       ")"
      ]
     },
     "execution_count": 54,
     "metadata": {},
     "output_type": "execute_result"
    }
   ],
   "source": [
    "net.to(device)"
   ]
  },
  {
   "cell_type": "code",
   "execution_count": 55,
   "metadata": {
    "scrolled": true
   },
   "outputs": [
    {
     "name": "stdout",
     "output_type": "stream",
     "text": [
      "[1, 2000] loss: 1.251\n",
      "[1, 4000] loss: 1.256\n",
      "[1, 6000] loss: 1.254\n",
      "[1, 8000] loss: 1.255\n",
      "[1, 10000] loss: 1.259\n",
      "[1, 12000] loss: 1.281\n",
      "[2, 2000] loss: 1.251\n",
      "[2, 4000] loss: 1.263\n",
      "[2, 6000] loss: 1.243\n",
      "[2, 8000] loss: 1.265\n",
      "[2, 10000] loss: 1.265\n",
      "[2, 12000] loss: 1.270\n",
      "Finished Training\n"
     ]
    }
   ],
   "source": [
    "# 训练过程中可以在cmd中输入nvidis-smi查看显卡的使用率，确认是否正在利用GPU训练\n",
    "\n",
    "for epoch in range(2):\n",
    "    \n",
    "    running_loss = 0.0\n",
    "    for i, data in enumerate(trainloader):\n",
    "        inputs, labels = data[0].to(device), data[1].to(device)\n",
    "        \n",
    "        optimizer.zero_grad()\n",
    "        \n",
    "        outputs = net(inputs)\n",
    "        loss = criterion(outputs, labels)\n",
    "        loss.backward()\n",
    "        optimizer.step()\n",
    "        \n",
    "        running_loss += loss.item()\n",
    "        if i % 2000 == 1999:\n",
    "            print('[{}, {}] loss: {:.3f}'.format(epoch + 1, i + 1, running_loss / 2000))\n",
    "            running_loss = 0.0\n",
    "\n",
    "print(\"Finished Training\")"
   ]
  },
  {
   "cell_type": "code",
   "execution_count": 56,
   "metadata": {},
   "outputs": [
    {
     "data": {
      "text/plain": [
       "True"
      ]
     },
     "execution_count": 56,
     "metadata": {},
     "output_type": "execute_result"
    }
   ],
   "source": [
    "torch.cuda.is_available()"
   ]
  },
  {
   "cell_type": "code",
   "execution_count": null,
   "metadata": {},
   "outputs": [],
   "source": []
  }
 ],
 "metadata": {
  "kernelspec": {
   "display_name": "torch_1.7",
   "language": "python",
   "name": "torch_1.7"
  },
  "language_info": {
   "codemirror_mode": {
    "name": "ipython",
    "version": 3
   },
   "file_extension": ".py",
   "mimetype": "text/x-python",
   "name": "python",
   "nbconvert_exporter": "python",
   "pygments_lexer": "ipython3",
   "version": "3.8.5"
  }
 },
 "nbformat": 4,
 "nbformat_minor": 4
}
